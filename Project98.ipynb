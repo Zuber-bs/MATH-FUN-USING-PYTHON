{
  "nbformat": 4,
  "nbformat_minor": 0,
  "metadata": {
    "colab": {
      "provenance": [],
      "authorship_tag": "ABX9TyOK6zMrjfeYyqWqqGW60DZW",
      "include_colab_link": true
    },
    "kernelspec": {
      "name": "python3",
      "display_name": "Python 3"
    },
    "language_info": {
      "name": "python"
    }
  },
  "cells": [
    {
      "cell_type": "markdown",
      "metadata": {
        "id": "view-in-github",
        "colab_type": "text"
      },
      "source": [
        "<a href=\"https://colab.research.google.com/github/Zuber-bs/MATH-FUN-USING-PYTHON/blob/main/Project98.ipynb\" target=\"_parent\"><img src=\"https://colab.research.google.com/assets/colab-badge.svg\" alt=\"Open In Colab\"/></a>"
      ]
    },
    {
      "cell_type": "code",
      "execution_count": 1,
      "metadata": {
        "colab": {
          "base_uri": "https://localhost:8080/"
        },
        "id": "4oqCiTwkj0eG",
        "outputId": "801f81c4-0665-47bc-b7a0-3a47dad6f416"
      },
      "outputs": [
        {
          "output_type": "stream",
          "name": "stdout",
          "text": [
            "Enter lower range: 10\n",
            "Enter upper range: 20\n",
            "Enter number to check divisibility: 3\n",
            "12\n",
            "15\n",
            "18\n"
          ]
        }
      ],
      "source": [
        "lowerRange = int(input(\"Enter lower range: \"))\n",
        "upperRange = int(input(\"Enter upper range: \"))\n",
        "divisibleNumber = int(input(\"Enter number to check divisibility: \"))\n",
        "\n",
        "for i in range(lowerRange, upperRange):\n",
        "  if(i%divisibleNumber == 0):\n",
        "    print(i)"
      ]
    }
  ]
}